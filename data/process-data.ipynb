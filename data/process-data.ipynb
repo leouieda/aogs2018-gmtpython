{
 "cells": [
  {
   "cell_type": "markdown",
   "metadata": {},
   "source": [
    "# Process the data to make it easier to plot\n",
    "\n",
    "`Figure.plot` likes intensity and azimuth instead of dx, dy. Calculate it and remove some outliers in the process.\n"
   ]
  },
  {
   "cell_type": "code",
   "execution_count": 1,
   "metadata": {},
   "outputs": [],
   "source": [
    "import pandas as pd\n",
    "import numpy as np"
   ]
  },
  {
   "cell_type": "code",
   "execution_count": 2,
   "metadata": {},
   "outputs": [
    {
     "data": {
      "text/html": [
       "<div>\n",
       "<style scoped>\n",
       "    .dataframe tbody tr th:only-of-type {\n",
       "        vertical-align: middle;\n",
       "    }\n",
       "\n",
       "    .dataframe tbody tr th {\n",
       "        vertical-align: top;\n",
       "    }\n",
       "\n",
       "    .dataframe thead th {\n",
       "        text-align: right;\n",
       "    }\n",
       "</style>\n",
       "<table border=\"1\" class=\"dataframe\">\n",
       "  <thead>\n",
       "    <tr style=\"text-align: right;\">\n",
       "      <th></th>\n",
       "      <th>*Dot#</th>\n",
       "      <th>Name</th>\n",
       "      <th>Ref_epoch</th>\n",
       "      <th>Ref_jday</th>\n",
       "      <th>Ref_X</th>\n",
       "      <th>Ref_Y</th>\n",
       "      <th>Ref_Z</th>\n",
       "      <th>Ref_Nlat</th>\n",
       "      <th>Ref_Elong</th>\n",
       "      <th>Ref_Up...</th>\n",
       "      <th>...</th>\n",
       "      <th>dE/dt</th>\n",
       "      <th>dU/dt</th>\n",
       "      <th>SNd</th>\n",
       "      <th>SEd</th>\n",
       "      <th>SUd</th>\n",
       "      <th>Rne</th>\n",
       "      <th>Rnu</th>\n",
       "      <th>Reu</th>\n",
       "      <th>first_epoch</th>\n",
       "      <th>last_epoch</th>\n",
       "    </tr>\n",
       "  </thead>\n",
       "  <tbody>\n",
       "    <tr>\n",
       "      <th>0</th>\n",
       "      <td>1LSU</td>\n",
       "      <td>Louisiana_St</td>\n",
       "      <td>20171129120000</td>\n",
       "      <td>58086.5</td>\n",
       "      <td>-113402.86448</td>\n",
       "      <td>-5.504361e+06</td>\n",
       "      <td>3.209404e+06</td>\n",
       "      <td>30.407425</td>\n",
       "      <td>268.819738</td>\n",
       "      <td>-6.56355</td>\n",
       "      <td>...</td>\n",
       "      <td>-0.00030</td>\n",
       "      <td>-0.00282</td>\n",
       "      <td>0.00022</td>\n",
       "      <td>0.00042</td>\n",
       "      <td>0.00046</td>\n",
       "      <td>0.029</td>\n",
       "      <td>0.0</td>\n",
       "      <td>-0.007</td>\n",
       "      <td>20030423000000</td>\n",
       "      <td>20080621000000</td>\n",
       "    </tr>\n",
       "    <tr>\n",
       "      <th>1</th>\n",
       "      <td>1LSU</td>\n",
       "      <td>Louisiana_St</td>\n",
       "      <td>20171129120000</td>\n",
       "      <td>58086.5</td>\n",
       "      <td>-113402.86020</td>\n",
       "      <td>-5.504361e+06</td>\n",
       "      <td>3.209404e+06</td>\n",
       "      <td>30.407425</td>\n",
       "      <td>268.819738</td>\n",
       "      <td>-6.56999</td>\n",
       "      <td>...</td>\n",
       "      <td>-0.00030</td>\n",
       "      <td>-0.00282</td>\n",
       "      <td>0.00022</td>\n",
       "      <td>0.00042</td>\n",
       "      <td>0.00046</td>\n",
       "      <td>0.029</td>\n",
       "      <td>0.0</td>\n",
       "      <td>-0.007</td>\n",
       "      <td>20080623000000</td>\n",
       "      <td>20100415000000</td>\n",
       "    </tr>\n",
       "    <tr>\n",
       "      <th>2</th>\n",
       "      <td>1LSU</td>\n",
       "      <td>Louisiana_St</td>\n",
       "      <td>20171129120000</td>\n",
       "      <td>58086.5</td>\n",
       "      <td>-113402.86186</td>\n",
       "      <td>-5.504361e+06</td>\n",
       "      <td>3.209404e+06</td>\n",
       "      <td>30.407425</td>\n",
       "      <td>268.819738</td>\n",
       "      <td>-6.57409</td>\n",
       "      <td>...</td>\n",
       "      <td>-0.00030</td>\n",
       "      <td>-0.00282</td>\n",
       "      <td>0.00022</td>\n",
       "      <td>0.00042</td>\n",
       "      <td>0.00046</td>\n",
       "      <td>0.029</td>\n",
       "      <td>0.0</td>\n",
       "      <td>-0.007</td>\n",
       "      <td>20100415000000</td>\n",
       "      <td>20140115000000</td>\n",
       "    </tr>\n",
       "    <tr>\n",
       "      <th>3</th>\n",
       "      <td>1LSU</td>\n",
       "      <td>Louisiana_St</td>\n",
       "      <td>20171129120000</td>\n",
       "      <td>58086.5</td>\n",
       "      <td>-113402.87074</td>\n",
       "      <td>-5.504361e+06</td>\n",
       "      <td>3.209404e+06</td>\n",
       "      <td>30.407425</td>\n",
       "      <td>268.819738</td>\n",
       "      <td>-6.56938</td>\n",
       "      <td>...</td>\n",
       "      <td>-0.00030</td>\n",
       "      <td>-0.00282</td>\n",
       "      <td>0.00022</td>\n",
       "      <td>0.00042</td>\n",
       "      <td>0.00046</td>\n",
       "      <td>0.029</td>\n",
       "      <td>0.0</td>\n",
       "      <td>-0.007</td>\n",
       "      <td>20140115000000</td>\n",
       "      <td>20171203000000</td>\n",
       "    </tr>\n",
       "    <tr>\n",
       "      <th>4</th>\n",
       "      <td>1NSU</td>\n",
       "      <td>Northwestern</td>\n",
       "      <td>20171129120000</td>\n",
       "      <td>58086.5</td>\n",
       "      <td>-293349.50638</td>\n",
       "      <td>-5.420742e+06</td>\n",
       "      <td>3.336981e+06</td>\n",
       "      <td>31.750801</td>\n",
       "      <td>266.902397</td>\n",
       "      <td>28.05982</td>\n",
       "      <td>...</td>\n",
       "      <td>-0.00016</td>\n",
       "      <td>-0.00045</td>\n",
       "      <td>0.00026</td>\n",
       "      <td>0.00011</td>\n",
       "      <td>0.00047</td>\n",
       "      <td>-0.056</td>\n",
       "      <td>-0.0</td>\n",
       "      <td>0.038</td>\n",
       "      <td>20040116000000</td>\n",
       "      <td>20100730000000</td>\n",
       "    </tr>\n",
       "  </tbody>\n",
       "</table>\n",
       "<p>5 rows × 30 columns</p>\n",
       "</div>"
      ],
      "text/plain": [
       "  *Dot#          Name       Ref_epoch  Ref_jday         Ref_X         Ref_Y  \\\n",
       "0  1LSU  Louisiana_St  20171129120000   58086.5 -113402.86448 -5.504361e+06   \n",
       "1  1LSU  Louisiana_St  20171129120000   58086.5 -113402.86020 -5.504361e+06   \n",
       "2  1LSU  Louisiana_St  20171129120000   58086.5 -113402.86186 -5.504361e+06   \n",
       "3  1LSU  Louisiana_St  20171129120000   58086.5 -113402.87074 -5.504361e+06   \n",
       "4  1NSU  Northwestern  20171129120000   58086.5 -293349.50638 -5.420742e+06   \n",
       "\n",
       "          Ref_Z   Ref_Nlat   Ref_Elong  Ref_Up...       ...          dE/dt  \\\n",
       "0  3.209404e+06  30.407425  268.819738   -6.56355       ...       -0.00030   \n",
       "1  3.209404e+06  30.407425  268.819738   -6.56999       ...       -0.00030   \n",
       "2  3.209404e+06  30.407425  268.819738   -6.57409       ...       -0.00030   \n",
       "3  3.209404e+06  30.407425  268.819738   -6.56938       ...       -0.00030   \n",
       "4  3.336981e+06  31.750801  266.902397   28.05982       ...       -0.00016   \n",
       "\n",
       "     dU/dt      SNd      SEd      SUd    Rne  Rnu    Reu     first_epoch  \\\n",
       "0 -0.00282  0.00022  0.00042  0.00046  0.029  0.0 -0.007  20030423000000   \n",
       "1 -0.00282  0.00022  0.00042  0.00046  0.029  0.0 -0.007  20080623000000   \n",
       "2 -0.00282  0.00022  0.00042  0.00046  0.029  0.0 -0.007  20100415000000   \n",
       "3 -0.00282  0.00022  0.00042  0.00046  0.029  0.0 -0.007  20140115000000   \n",
       "4 -0.00045  0.00026  0.00011  0.00047 -0.056 -0.0  0.038  20040116000000   \n",
       "\n",
       "       last_epoch  \n",
       "0  20080621000000  \n",
       "1  20100415000000  \n",
       "2  20140115000000  \n",
       "3  20171203000000  \n",
       "4  20100730000000  \n",
       "\n",
       "[5 rows x 30 columns]"
      ]
     },
     "execution_count": 2,
     "metadata": {},
     "output_type": "execute_result"
    }
   ],
   "source": [
    "data = pd.read_csv('pbo.final_nam08.vel', skiprows=35, delim_whitespace=True)\n",
    "data.head()"
   ]
  },
  {
   "cell_type": "markdown",
   "metadata": {},
   "source": [
    "Remove the large East velocities."
   ]
  },
  {
   "cell_type": "code",
   "execution_count": 3,
   "metadata": {},
   "outputs": [],
   "source": [
    "data = data[data['dE/dt'].abs() < 0.05]"
   ]
  },
  {
   "cell_type": "markdown",
   "metadata": {},
   "source": [
    "Calculate azimuth and intensity."
   ]
  },
  {
   "cell_type": "code",
   "execution_count": 4,
   "metadata": {},
   "outputs": [],
   "source": [
    "azimuth = np.rad2deg(np.arctan2(data['dE/dt'], data['dN/dt']))\n",
    "velocity = np.hypot(data['dE/dt'], data['dN/dt'])"
   ]
  },
  {
   "cell_type": "markdown",
   "metadata": {},
   "source": [
    "Store it in a DataFrame and save it to CSV."
   ]
  },
  {
   "cell_type": "code",
   "execution_count": 5,
   "metadata": {},
   "outputs": [],
   "source": [
    "out = pd.DataFrame(dict(lon=data.Ref_Elong, lat=data.Ref_Nlat, \n",
    "                        velocity_east=data['dE/dt'], velocity_north=data['dN/dt'], \n",
    "                        azimuth=azimuth, velocity=velocity),\n",
    "                   columns='lon lat velocity_east velocity_north azimuth velocity'.split())"
   ]
  },
  {
   "cell_type": "code",
   "execution_count": 6,
   "metadata": {},
   "outputs": [],
   "source": [
    "out.to_csv('pbo_gps_velocity.csv', sep=' ', index=False)"
   ]
  },
  {
   "cell_type": "code",
   "execution_count": 7,
   "metadata": {},
   "outputs": [
    {
     "name": "stdout",
     "output_type": "stream",
     "text": [
      "lon lat velocity_east velocity_north azimuth velocity\r\n",
      "268.8197383726 30.407424827899998 -0.0003 0.0008699999999999999 -19.025606037568686 0.000920271699010678\r\n",
      "268.8197384155 30.407424858400002 -0.0003 0.00088 -18.824710018240065 0.0009297311439335567\r\n",
      "268.8197383978 30.4074248342 -0.0003 0.0008699999999999999 -19.025606037568686 0.000920271699010678\r\n",
      "268.8197383061 30.4074248423 -0.0003 0.0008699999999999999 -19.025606037568686 0.000920271699010678\r\n",
      "266.9023965751 31.7508008303 -0.00016 0.00206 -4.441241189432813 0.002066204249342257\r\n",
      "266.9023965862 31.750800811599998 -0.00016 0.00206 -4.441241189432813 0.002066204249342257\r\n",
      "267.92409367759996 32.5290340941 8e-05 0.0009599999999999999 4.763641690726179 0.0009633275663033836\r\n",
      "267.92409369169997 32.529034075 8e-05 0.0009599999999999999 4.763641690726179 0.0009633275663033836\r\n",
      "242.9068041911 34.1164090607 -0.01573 0.01648 -43.66612632576935 0.022782082872292428\r\n"
     ]
    }
   ],
   "source": [
    "!head pbo_gps_velocity.csv"
   ]
  }
 ],
 "metadata": {
  "kernelspec": {
   "display_name": "Python 3",
   "language": "python",
   "name": "python3"
  },
  "language_info": {
   "codemirror_mode": {
    "name": "ipython",
    "version": 3
   },
   "file_extension": ".py",
   "mimetype": "text/x-python",
   "name": "python",
   "nbconvert_exporter": "python",
   "pygments_lexer": "ipython3",
   "version": "3.6.5"
  }
 },
 "nbformat": 4,
 "nbformat_minor": 2
}
